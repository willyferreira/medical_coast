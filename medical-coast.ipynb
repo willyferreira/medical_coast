{
 "cells": [
  {
   "cell_type": "markdown",
   "id": "cd7a16ab",
   "metadata": {
    "papermill": {
     "duration": 0.005357,
     "end_time": "2023-06-15T19:15:54.387205",
     "exception": false,
     "start_time": "2023-06-15T19:15:54.381848",
     "status": "completed"
    },
    "tags": []
   },
   "source": [
    "### Importação das bibliotecas"
   ]
  },
  {
   "cell_type": "code",
   "execution_count": 1,
   "id": "09296838",
   "metadata": {
    "execution": {
     "iopub.execute_input": "2023-06-15T19:15:54.398906Z",
     "iopub.status.busy": "2023-06-15T19:15:54.398312Z",
     "iopub.status.idle": "2023-06-15T19:15:55.771258Z",
     "shell.execute_reply": "2023-06-15T19:15:55.770140Z"
    },
    "papermill": {
     "duration": 1.382212,
     "end_time": "2023-06-15T19:15:55.774344",
     "exception": false,
     "start_time": "2023-06-15T19:15:54.392132",
     "status": "completed"
    },
    "tags": []
   },
   "outputs": [],
   "source": [
    "import numpy as np\n",
    "import pandas as pd\n",
    "import seaborn as sns\n",
    "import matplotlib.pyplot as plt"
   ]
  },
  {
   "cell_type": "code",
   "execution_count": 2,
   "id": "de9d58d4",
   "metadata": {
    "_cell_guid": "b1076dfc-b9ad-4769-8c92-a6c4dae69d19",
    "_uuid": "8f2839f25d086af736a60e9eeb907d3b93b6e0e5",
    "execution": {
     "iopub.execute_input": "2023-06-15T19:15:55.786049Z",
     "iopub.status.busy": "2023-06-15T19:15:55.785648Z",
     "iopub.status.idle": "2023-06-15T19:15:55.795142Z",
     "shell.execute_reply": "2023-06-15T19:15:55.793996Z"
    },
    "papermill": {
     "duration": 0.01813,
     "end_time": "2023-06-15T19:15:55.797439",
     "exception": false,
     "start_time": "2023-06-15T19:15:55.779309",
     "status": "completed"
    },
    "tags": []
   },
   "outputs": [
    {
     "name": "stdout",
     "output_type": "stream",
     "text": [
      "/kaggle/input/insurance/insurance.csv\n"
     ]
    }
   ],
   "source": [
    "import os\n",
    "for dirname, _, filenames in os.walk('/kaggle/input'):\n",
    "    for filename in filenames:\n",
    "        print(os.path.join(dirname, filename))"
   ]
  },
  {
   "cell_type": "code",
   "execution_count": 3,
   "id": "6c536e90",
   "metadata": {
    "execution": {
     "iopub.execute_input": "2023-06-15T19:15:55.809091Z",
     "iopub.status.busy": "2023-06-15T19:15:55.808477Z",
     "iopub.status.idle": "2023-06-15T19:15:55.834553Z",
     "shell.execute_reply": "2023-06-15T19:15:55.833387Z"
    },
    "papermill": {
     "duration": 0.03469,
     "end_time": "2023-06-15T19:15:55.837200",
     "exception": false,
     "start_time": "2023-06-15T19:15:55.802510",
     "status": "completed"
    },
    "tags": []
   },
   "outputs": [],
   "source": [
    "df = pd.read_csv('/kaggle/input/insurance/insurance.csv')"
   ]
  },
  {
   "cell_type": "code",
   "execution_count": 4,
   "id": "b2d77df2",
   "metadata": {
    "execution": {
     "iopub.execute_input": "2023-06-15T19:15:55.848773Z",
     "iopub.status.busy": "2023-06-15T19:15:55.848399Z",
     "iopub.status.idle": "2023-06-15T19:15:55.880174Z",
     "shell.execute_reply": "2023-06-15T19:15:55.879399Z"
    },
    "papermill": {
     "duration": 0.040143,
     "end_time": "2023-06-15T19:15:55.882345",
     "exception": false,
     "start_time": "2023-06-15T19:15:55.842202",
     "status": "completed"
    },
    "tags": []
   },
   "outputs": [
    {
     "data": {
      "text/html": [
       "<div>\n",
       "<style scoped>\n",
       "    .dataframe tbody tr th:only-of-type {\n",
       "        vertical-align: middle;\n",
       "    }\n",
       "\n",
       "    .dataframe tbody tr th {\n",
       "        vertical-align: top;\n",
       "    }\n",
       "\n",
       "    .dataframe thead th {\n",
       "        text-align: right;\n",
       "    }\n",
       "</style>\n",
       "<table border=\"1\" class=\"dataframe\">\n",
       "  <thead>\n",
       "    <tr style=\"text-align: right;\">\n",
       "      <th></th>\n",
       "      <th>age</th>\n",
       "      <th>sex</th>\n",
       "      <th>bmi</th>\n",
       "      <th>children</th>\n",
       "      <th>smoker</th>\n",
       "      <th>region</th>\n",
       "      <th>charges</th>\n",
       "    </tr>\n",
       "  </thead>\n",
       "  <tbody>\n",
       "    <tr>\n",
       "      <th>0</th>\n",
       "      <td>19</td>\n",
       "      <td>female</td>\n",
       "      <td>27.900</td>\n",
       "      <td>0</td>\n",
       "      <td>yes</td>\n",
       "      <td>southwest</td>\n",
       "      <td>16884.92400</td>\n",
       "    </tr>\n",
       "    <tr>\n",
       "      <th>1</th>\n",
       "      <td>18</td>\n",
       "      <td>male</td>\n",
       "      <td>33.770</td>\n",
       "      <td>1</td>\n",
       "      <td>no</td>\n",
       "      <td>southeast</td>\n",
       "      <td>1725.55230</td>\n",
       "    </tr>\n",
       "    <tr>\n",
       "      <th>2</th>\n",
       "      <td>28</td>\n",
       "      <td>male</td>\n",
       "      <td>33.000</td>\n",
       "      <td>3</td>\n",
       "      <td>no</td>\n",
       "      <td>southeast</td>\n",
       "      <td>4449.46200</td>\n",
       "    </tr>\n",
       "    <tr>\n",
       "      <th>3</th>\n",
       "      <td>33</td>\n",
       "      <td>male</td>\n",
       "      <td>22.705</td>\n",
       "      <td>0</td>\n",
       "      <td>no</td>\n",
       "      <td>northwest</td>\n",
       "      <td>21984.47061</td>\n",
       "    </tr>\n",
       "    <tr>\n",
       "      <th>4</th>\n",
       "      <td>32</td>\n",
       "      <td>male</td>\n",
       "      <td>28.880</td>\n",
       "      <td>0</td>\n",
       "      <td>no</td>\n",
       "      <td>northwest</td>\n",
       "      <td>3866.85520</td>\n",
       "    </tr>\n",
       "  </tbody>\n",
       "</table>\n",
       "</div>"
      ],
      "text/plain": [
       "   age     sex     bmi  children smoker     region      charges\n",
       "0   19  female  27.900         0    yes  southwest  16884.92400\n",
       "1   18    male  33.770         1     no  southeast   1725.55230\n",
       "2   28    male  33.000         3     no  southeast   4449.46200\n",
       "3   33    male  22.705         0     no  northwest  21984.47061\n",
       "4   32    male  28.880         0     no  northwest   3866.85520"
      ]
     },
     "execution_count": 4,
     "metadata": {},
     "output_type": "execute_result"
    }
   ],
   "source": [
    "df.head()"
   ]
  },
  {
   "cell_type": "code",
   "execution_count": 5,
   "id": "f3d3822f",
   "metadata": {
    "execution": {
     "iopub.execute_input": "2023-06-15T19:15:55.895266Z",
     "iopub.status.busy": "2023-06-15T19:15:55.894293Z",
     "iopub.status.idle": "2023-06-15T19:15:55.921992Z",
     "shell.execute_reply": "2023-06-15T19:15:55.920777Z"
    },
    "papermill": {
     "duration": 0.036649,
     "end_time": "2023-06-15T19:15:55.924353",
     "exception": false,
     "start_time": "2023-06-15T19:15:55.887704",
     "status": "completed"
    },
    "tags": []
   },
   "outputs": [
    {
     "name": "stdout",
     "output_type": "stream",
     "text": [
      "<class 'pandas.core.frame.DataFrame'>\n",
      "RangeIndex: 1338 entries, 0 to 1337\n",
      "Data columns (total 7 columns):\n",
      " #   Column    Non-Null Count  Dtype  \n",
      "---  ------    --------------  -----  \n",
      " 0   age       1338 non-null   int64  \n",
      " 1   sex       1338 non-null   object \n",
      " 2   bmi       1338 non-null   float64\n",
      " 3   children  1338 non-null   int64  \n",
      " 4   smoker    1338 non-null   object \n",
      " 5   region    1338 non-null   object \n",
      " 6   charges   1338 non-null   float64\n",
      "dtypes: float64(2), int64(2), object(3)\n",
      "memory usage: 73.3+ KB\n"
     ]
    }
   ],
   "source": [
    "df.info()"
   ]
  },
  {
   "cell_type": "code",
   "execution_count": 6,
   "id": "1e120a30",
   "metadata": {
    "execution": {
     "iopub.execute_input": "2023-06-15T19:15:55.936463Z",
     "iopub.status.busy": "2023-06-15T19:15:55.936081Z",
     "iopub.status.idle": "2023-06-15T19:15:55.965380Z",
     "shell.execute_reply": "2023-06-15T19:15:55.964227Z"
    },
    "papermill": {
     "duration": 0.038118,
     "end_time": "2023-06-15T19:15:55.967788",
     "exception": false,
     "start_time": "2023-06-15T19:15:55.929670",
     "status": "completed"
    },
    "tags": []
   },
   "outputs": [
    {
     "data": {
      "text/html": [
       "<div>\n",
       "<style scoped>\n",
       "    .dataframe tbody tr th:only-of-type {\n",
       "        vertical-align: middle;\n",
       "    }\n",
       "\n",
       "    .dataframe tbody tr th {\n",
       "        vertical-align: top;\n",
       "    }\n",
       "\n",
       "    .dataframe thead th {\n",
       "        text-align: right;\n",
       "    }\n",
       "</style>\n",
       "<table border=\"1\" class=\"dataframe\">\n",
       "  <thead>\n",
       "    <tr style=\"text-align: right;\">\n",
       "      <th></th>\n",
       "      <th>count</th>\n",
       "      <th>mean</th>\n",
       "      <th>std</th>\n",
       "      <th>min</th>\n",
       "      <th>25%</th>\n",
       "      <th>50%</th>\n",
       "      <th>75%</th>\n",
       "      <th>max</th>\n",
       "    </tr>\n",
       "  </thead>\n",
       "  <tbody>\n",
       "    <tr>\n",
       "      <th>age</th>\n",
       "      <td>1338.0</td>\n",
       "      <td>39.207025</td>\n",
       "      <td>14.049960</td>\n",
       "      <td>18.0000</td>\n",
       "      <td>27.00000</td>\n",
       "      <td>39.000</td>\n",
       "      <td>51.000000</td>\n",
       "      <td>64.00000</td>\n",
       "    </tr>\n",
       "    <tr>\n",
       "      <th>bmi</th>\n",
       "      <td>1338.0</td>\n",
       "      <td>30.663397</td>\n",
       "      <td>6.098187</td>\n",
       "      <td>15.9600</td>\n",
       "      <td>26.29625</td>\n",
       "      <td>30.400</td>\n",
       "      <td>34.693750</td>\n",
       "      <td>53.13000</td>\n",
       "    </tr>\n",
       "    <tr>\n",
       "      <th>children</th>\n",
       "      <td>1338.0</td>\n",
       "      <td>1.094918</td>\n",
       "      <td>1.205493</td>\n",
       "      <td>0.0000</td>\n",
       "      <td>0.00000</td>\n",
       "      <td>1.000</td>\n",
       "      <td>2.000000</td>\n",
       "      <td>5.00000</td>\n",
       "    </tr>\n",
       "    <tr>\n",
       "      <th>charges</th>\n",
       "      <td>1338.0</td>\n",
       "      <td>13270.422265</td>\n",
       "      <td>12110.011237</td>\n",
       "      <td>1121.8739</td>\n",
       "      <td>4740.28715</td>\n",
       "      <td>9382.033</td>\n",
       "      <td>16639.912515</td>\n",
       "      <td>63770.42801</td>\n",
       "    </tr>\n",
       "  </tbody>\n",
       "</table>\n",
       "</div>"
      ],
      "text/plain": [
       "           count          mean           std        min         25%       50%  \\\n",
       "age       1338.0     39.207025     14.049960    18.0000    27.00000    39.000   \n",
       "bmi       1338.0     30.663397      6.098187    15.9600    26.29625    30.400   \n",
       "children  1338.0      1.094918      1.205493     0.0000     0.00000     1.000   \n",
       "charges   1338.0  13270.422265  12110.011237  1121.8739  4740.28715  9382.033   \n",
       "\n",
       "                   75%          max  \n",
       "age          51.000000     64.00000  \n",
       "bmi          34.693750     53.13000  \n",
       "children      2.000000      5.00000  \n",
       "charges   16639.912515  63770.42801  "
      ]
     },
     "execution_count": 6,
     "metadata": {},
     "output_type": "execute_result"
    }
   ],
   "source": [
    "df.describe().T"
   ]
  },
  {
   "cell_type": "code",
   "execution_count": 7,
   "id": "ec0eb8f4",
   "metadata": {
    "execution": {
     "iopub.execute_input": "2023-06-15T19:15:55.980706Z",
     "iopub.status.busy": "2023-06-15T19:15:55.980338Z",
     "iopub.status.idle": "2023-06-15T19:15:55.986819Z",
     "shell.execute_reply": "2023-06-15T19:15:55.985613Z"
    },
    "papermill": {
     "duration": 0.015641,
     "end_time": "2023-06-15T19:15:55.989097",
     "exception": false,
     "start_time": "2023-06-15T19:15:55.973456",
     "status": "completed"
    },
    "tags": []
   },
   "outputs": [],
   "source": [
    "# Definição do Tema do Seaborn\n",
    "sns.set_theme(\n",
    "    context = 'paper', style = 'darkgrid', palette = 'muted',\n",
    "    font = 'sans-serif', font_scale = 1, color_codes = True, \n",
    "    rc = None\n",
    ")"
   ]
  },
  {
   "cell_type": "code",
   "execution_count": 8,
   "id": "d2f75f37",
   "metadata": {
    "execution": {
     "iopub.execute_input": "2023-06-15T19:15:56.002776Z",
     "iopub.status.busy": "2023-06-15T19:15:56.001873Z",
     "iopub.status.idle": "2023-06-15T19:15:56.698689Z",
     "shell.execute_reply": "2023-06-15T19:15:56.697503Z"
    },
    "papermill": {
     "duration": 0.706542,
     "end_time": "2023-06-15T19:15:56.701312",
     "exception": false,
     "start_time": "2023-06-15T19:15:55.994770",
     "status": "completed"
    },
    "tags": []
   },
   "outputs": [
    {
     "data": {
      "text/plain": [
       "<Axes: xlabel='age'>"
      ]
     },
     "execution_count": 8,
     "metadata": {},
     "output_type": "execute_result"
    },
    {
     "data": {
      "image/png": "[encoded data removed]",
      "text/plain": [
       "<Figure size 640x480 with 2 Axes>"
      ]
     },
     "metadata": {},
     "output_type": "display_data"
    }
   ],
   "source": [
    "#Criação dos subplots\n",
    "fig, axs = plt.subplots(ncols = 1, nrows = 2, sharex=True, height_ratios=[0.8, 0.2])\n",
    "#Criação dos gráficos\n",
    "sns.histplot(data = df, x = df['age'], kde = True, ax = axs[0], stat = 'count')\n",
    "sns.boxplot(x = df['age'], fliersize = 2, notch = True, ax = axs[1])"
   ]
  },
  {
   "cell_type": "code",
   "execution_count": 9,
   "id": "291f24bb",
   "metadata": {
    "execution": {
     "iopub.execute_input": "2023-06-15T19:15:56.716743Z",
     "iopub.status.busy": "2023-06-15T19:15:56.716352Z",
     "iopub.status.idle": "2023-06-15T19:15:57.463393Z",
     "shell.execute_reply": "2023-06-15T19:15:57.462342Z"
    },
    "papermill": {
     "duration": 0.758352,
     "end_time": "2023-06-15T19:15:57.465808",
     "exception": false,
     "start_time": "2023-06-15T19:15:56.707456",
     "status": "completed"
    },
    "tags": []
   },
   "outputs": [
    {
     "data": {
      "text/plain": [
       "<Axes: xlabel='bmi'>"
      ]
     },
     "execution_count": 9,
     "metadata": {},
     "output_type": "execute_result"
    },
    {
     "data": {
      "image/png": "[encoded data removed]",
      "text/plain": [
       "<Figure size 640x480 with 2 Axes>"
      ]
     },
     "metadata": {},
     "output_type": "display_data"
    }
   ],
   "source": [
    "#Criação dos subplots\n",
    "fig, axs = plt.subplots(ncols = 1, nrows = 2, sharex=True, height_ratios=[0.8, 0.2])\n",
    "#Criação dos gráficos\n",
    "sns.histplot(data = df, x = df['bmi'], kde = True, ax = axs[0], stat = 'count')\n",
    "sns.boxplot(x = df['bmi'], fliersize = 2, notch = True, ax = axs[1])"
   ]
  },
  {
   "cell_type": "code",
   "execution_count": 10,
   "id": "23e18c9e",
   "metadata": {
    "execution": {
     "iopub.execute_input": "2023-06-15T19:15:57.481838Z",
     "iopub.status.busy": "2023-06-15T19:15:57.480906Z",
     "iopub.status.idle": "2023-06-15T19:15:58.120015Z",
     "shell.execute_reply": "2023-06-15T19:15:58.119146Z"
    },
    "papermill": {
     "duration": 0.649588,
     "end_time": "2023-06-15T19:15:58.122358",
     "exception": false,
     "start_time": "2023-06-15T19:15:57.472770",
     "status": "completed"
    },
    "tags": []
   },
   "outputs": [
    {
     "data": {
      "text/plain": [
       "<Axes: xlabel='children'>"
      ]
     },
     "execution_count": 10,
     "metadata": {},
     "output_type": "execute_result"
    },
    {
     "data": {
      "image/png": "[encoded data removed]",
      "text/plain": [
       "<Figure size 640x480 with 2 Axes>"
      ]
     },
     "metadata": {},
     "output_type": "display_data"
    }
   ],
   "source": [
    "#Criação dos subplots\n",
    "fig, axs = plt.subplots(ncols = 1, nrows = 2, sharex=True, height_ratios=[0.8, 0.2])\n",
    "#Criação dos gráficos\n",
    "sns.histplot(data = df, x = df['children'], kde = True, ax = axs[0], stat = 'count')\n",
    "sns.boxplot(x = df['children'], fliersize = 2, notch = True, ax = axs[1])"
   ]
  },
  {
   "cell_type": "code",
   "execution_count": 11,
   "id": "2f6b0962",
   "metadata": {
    "execution": {
     "iopub.execute_input": "2023-06-15T19:15:58.140855Z",
     "iopub.status.busy": "2023-06-15T19:15:58.139723Z",
     "iopub.status.idle": "2023-06-15T19:15:58.857791Z",
     "shell.execute_reply": "2023-06-15T19:15:58.856637Z"
    },
    "papermill": {
     "duration": 0.729712,
     "end_time": "2023-06-15T19:15:58.860266",
     "exception": false,
     "start_time": "2023-06-15T19:15:58.130554",
     "status": "completed"
    },
    "tags": []
   },
   "outputs": [
    {
     "data": {
      "text/plain": [
       "<Axes: xlabel='charges'>"
      ]
     },
     "execution_count": 11,
     "metadata": {},
     "output_type": "execute_result"
    },
    {
     "data": {
      "image/png": "[encoded data removed]",
      "text/plain": [
       "<Figure size 640x480 with 2 Axes>"
      ]
     },
     "metadata": {},
     "output_type": "display_data"
    }
   ],
   "source": [
    "#Criação dos subplots\n",
    "fig, axs = plt.subplots(ncols = 1, nrows = 2, sharex=True, height_ratios=[0.8, 0.2])\n",
    "#Criação dos gráficos\n",
    "sns.histplot(data = df, x = df['charges'], kde = True, ax = axs[0], stat = 'count')\n",
    "sns.boxplot(x = df['charges'], fliersize = 2, notch = True, ax = axs[1])"
   ]
  },
  {
   "cell_type": "code",
   "execution_count": 12,
   "id": "1df93530",
   "metadata": {
    "execution": {
     "iopub.execute_input": "2023-06-15T19:15:58.878338Z",
     "iopub.status.busy": "2023-06-15T19:15:58.877945Z",
     "iopub.status.idle": "2023-06-15T19:15:58.884893Z",
     "shell.execute_reply": "2023-06-15T19:15:58.883830Z"
    },
    "papermill": {
     "duration": 0.018821,
     "end_time": "2023-06-15T19:15:58.887244",
     "exception": false,
     "start_time": "2023-06-15T19:15:58.868423",
     "status": "completed"
    },
    "tags": []
   },
   "outputs": [
    {
     "data": {
      "text/plain": [
       "5"
      ]
     },
     "execution_count": 12,
     "metadata": {},
     "output_type": "execute_result"
    }
   ],
   "source": [
    "np.ptp(df['children'])"
   ]
  }
 ],
 "metadata": {
  "kernelspec": {
   "display_name": "Python 3",
   "language": "python",
   "name": "python3"
  },
  "language_info": {
   "codemirror_mode": {
    "name": "ipython",
    "version": 3
   },
   "file_extension": ".py",
   "mimetype": "text/x-python",
   "name": "python",
   "nbconvert_exporter": "python",
   "pygments_lexer": "ipython3",
   "version": "3.10.10"
  },
  "papermill": {
   "default_parameters": {},
   "duration": 17.397843,
   "end_time": "2023-06-15T19:15:59.816805",
   "environment_variables": {},
   "exception": null,
   "input_path": "__notebook__.ipynb",
   "output_path": "__notebook__.ipynb",
   "parameters": {},
   "start_time": "2023-06-15T19:15:42.418962",
   "version": "2.4.0"
  }
 },
 "nbformat": 4,
 "nbformat_minor": 5
}
